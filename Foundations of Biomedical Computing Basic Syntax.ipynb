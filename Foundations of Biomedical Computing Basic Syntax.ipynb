{
 "cells": [
  {
   "cell_type": "markdown",
   "metadata": {
    "toc": true
   },
   "source": [
    "<h1>Table of Contents<span class=\"tocSkip\"></span></h1>\n",
    "<div class=\"toc\"><ul class=\"toc-item\"></ul></div>"
   ]
  },
  {
   "cell_type": "markdown",
   "metadata": {},
   "source": [
    "<font size=6>Foundations of Biomedical Computing - Spring 2024</font>"
   ]
  },
  {
   "cell_type": "markdown",
   "metadata": {},
   "source": [
    "<font size=5>Worksheet #1a - Data types and Operations</font>"
   ]
  },
  {
   "cell_type": "markdown",
   "metadata": {},
   "source": [
    "The focus of this worksheet will be on the data types available in python, along with the operations used to manipulate these types. \n",
    "\n",
    "For all questions, use `print` to show your final result."
   ]
  },
  {
   "cell_type": "markdown",
   "metadata": {},
   "source": [
    "___"
   ]
  },
  {
   "cell_type": "markdown",
   "metadata": {},
   "source": [
    "<font size=5>Section 1: Numeric Types and Operations</font>"
   ]
  },
  {
   "cell_type": "markdown",
   "metadata": {},
   "source": [
    "The arithmitc operations of addition ('+'), subtraction ('-'), multiplication ('*'), and division ('/') form the basis of manipulating numeric data types.\n",
    "<br>\n",
    "<br>\n",
    "We will start by exploring these operations."
   ]
  },
  {
   "cell_type": "markdown",
   "metadata": {},
   "source": [
    "1\\. Perform the following arithmetic operations: \n",
    "<br>\n",
    "<br>"
   ]
  },
  {
   "cell_type": "markdown",
   "metadata": {},
   "source": [
    "Write a statement that adds two integers and a floating point number, and stores the sum in a variable. "
   ]
  },
  {
   "cell_type": "code",
   "execution_count": 18,
   "metadata": {
    "scrolled": true
   },
   "outputs": [
    {
     "name": "stdout",
     "output_type": "stream",
     "text": [
      "16.2\n"
     ]
    }
   ],
   "source": [
    "d = 3 + 5 + 8.2\n",
    "print(d)"
   ]
  },
  {
   "cell_type": "markdown",
   "metadata": {},
   "source": [
    "Write a statement that subtracts two integers, and stores the outcome in a variable. "
   ]
  },
  {
   "cell_type": "code",
   "execution_count": 19,
   "metadata": {},
   "outputs": [
    {
     "name": "stdout",
     "output_type": "stream",
     "text": [
      "5\n"
     ]
    }
   ],
   "source": [
    "x = 10 - 5\n",
    "print(x)"
   ]
  },
  {
   "cell_type": "markdown",
   "metadata": {},
   "source": [
    "Write a statement that multiplies two integers and two floats, and store the outcome in a variable. "
   ]
  },
  {
   "cell_type": "code",
   "execution_count": 20,
   "metadata": {},
   "outputs": [
    {
     "name": "stdout",
     "output_type": "stream",
     "text": [
      "102.6\n"
     ]
    }
   ],
   "source": [
    "y = 3 * 4 * 4.5 * 1.9\n",
    "print(y)"
   ]
  },
  {
   "cell_type": "markdown",
   "metadata": {},
   "source": [
    "Write a statement that divides a float by an integer, and store the outcome in a variable."
   ]
  },
  {
   "cell_type": "code",
   "execution_count": 21,
   "metadata": {},
   "outputs": [
    {
     "name": "stdout",
     "output_type": "stream",
     "text": [
      "3.5\n"
     ]
    }
   ],
   "source": [
    "z = 10.5 / 3\n",
    "print(z)"
   ]
  },
  {
   "cell_type": "markdown",
   "metadata": {},
   "source": [
    "Write a statement that adds, subtracts, multiplies, and divides the previous four variables in some combination, and store the outcome in a variable.  "
   ]
  },
  {
   "cell_type": "code",
   "execution_count": 22,
   "metadata": {},
   "outputs": [
    {
     "name": "stdout",
     "output_type": "stream",
     "text": [
      "13.489473684210527\n"
     ]
    }
   ],
   "source": [
    "combo = d * x / y - z + d\n",
    "print(combo)"
   ]
  },
  {
   "cell_type": "markdown",
   "metadata": {},
   "source": [
    "State the data type of your final result. If it is float, write a statement that forces it to be an integer; if it's an integer, force it to become a float."
   ]
  },
  {
   "cell_type": "code",
   "execution_count": 23,
   "metadata": {},
   "outputs": [
    {
     "name": "stdout",
     "output_type": "stream",
     "text": [
      "13\n"
     ]
    }
   ],
   "source": [
    "# the data type of the final result is a float\n",
    "intCombo = int(combo)\n",
    "print(intCombo)"
   ]
  },
  {
   "cell_type": "markdown",
   "metadata": {},
   "source": [
    "Python also includes four other operators, exponentiation ('**'), exclusive-or ('^'), modulus ('%'), and integer division ('//')"
   ]
  },
  {
   "cell_type": "markdown",
   "metadata": {},
   "source": [
    "3\\. Some of these concepts (looking at you exclusive-or) may not be familiar to all of you. Try writing a few statements for each operation to understand what they do."
   ]
  },
  {
   "cell_type": "markdown",
   "metadata": {},
   "source": [
    "Write statements for each operation and store them in a variable. In your comments, describe what is happening with exclusive-or."
   ]
  },
  {
   "cell_type": "code",
   "execution_count": 2,
   "metadata": {},
   "outputs": [
    {
     "name": "stdout",
     "output_type": "stream",
     "text": [
      "15625\n"
     ]
    }
   ],
   "source": [
    "a = 5 ** 6\n",
    "print(a)"
   ]
  },
  {
   "cell_type": "code",
   "execution_count": 7,
   "metadata": {},
   "outputs": [
    {
     "name": "stdout",
     "output_type": "stream",
     "text": [
      "3\n"
     ]
    }
   ],
   "source": [
    "xor = 4 ^ 7\n",
    "print(xor) \n",
    "# the exclusive-or operator converts the integers into binary numbers, and compares the bits. in this case, 4 ^ 7 = 100 ^ 111 = 011 = 3"
   ]
  },
  {
   "cell_type": "code",
   "execution_count": 4,
   "metadata": {},
   "outputs": [
    {
     "name": "stdout",
     "output_type": "stream",
     "text": [
      "2\n"
     ]
    }
   ],
   "source": [
    "mod = 12 % 5\n",
    "print(mod)"
   ]
  },
  {
   "cell_type": "code",
   "execution_count": 3,
   "metadata": {},
   "outputs": [
    {
     "name": "stdout",
     "output_type": "stream",
     "text": [
      "2\n"
     ]
    }
   ],
   "source": [
    "id = 10 // 4\n",
    "print(id)"
   ]
  },
  {
   "cell_type": "markdown",
   "metadata": {},
   "source": [
    "___"
   ]
  },
  {
   "cell_type": "markdown",
   "metadata": {},
   "source": [
    "<font size=5>Section 2: Sequence Types</font>"
   ]
  },
  {
   "cell_type": "markdown",
   "metadata": {},
   "source": [
    "Python also has an important class of data types called Sequence Types. Sequence Types are some of the most useful data types present in the python language. For the purposes of this class, we will consider lists, tuples, sets, and dictionaries as Sequence Types. Though strings are *technically* Sequence Types, we will not include them in this section as we will cover them in the next section.\n",
    "<br>\n",
    "<br>\n",
    "Here is a breakdown of the four main Sequence Types:\n",
    "\n",
    "- List: an array which is ordered and changeable. Allows duplicate members. Denoted by [ ]\n",
    "- Tuple: an array which is ordered and unchangeable. Allows duplicate members. Denoted by ( )\n",
    "- Set: an array which is unordered and unindexed. No duplicate members. Denoted by {  }\n",
    "- Dictionary: an array which is unordered, changeable and indexed. No duplicate members. Denoted by { a:b, c:d ...}"
   ]
  },
  {
   "cell_type": "markdown",
   "metadata": {},
   "source": [
    "- Example code for a list:\n",
    "<pre><code>list = [\"apple\", \"banana\", \"cherry\"]\n",
    "print(list)\n",
    "</code></pre>\n",
    "- Example code for a tuple:\n",
    "<pre><code>tuple = (\"apple\", \"banana\", \"cherry\")\n",
    "print(tuple)\n",
    "</code></pre>\n",
    "- Example code for a set:\n",
    "<pre><code>set = {\"apple\", \"banana\", \"cherry\"}\n",
    "print(set)\n",
    "</code></pre>\n",
    "- Example code for a Dictionary:\n",
    "<pre><code>\n",
    "dict = {\n",
    "  \"fruit\": \"apple\",\n",
    "  \"type\": \"honeycrisp\",\n",
    "  \"year\": 1960\n",
    "}\n",
    "print(dict)\n",
    "</code></pre>"
   ]
  },
  {
   "cell_type": "markdown",
   "metadata": {},
   "source": [
    "4\\. Create your own list and tuple, each having at least five elements."
   ]
  },
  {
   "cell_type": "code",
   "execution_count": 8,
   "metadata": {},
   "outputs": [
    {
     "name": "stdout",
     "output_type": "stream",
     "text": [
      "['hi', 'hello', 'okay', 'why', 'what']\n",
      "('fruit', 'word', 'sentence', 'research', 'hand')\n"
     ]
    }
   ],
   "source": [
    "exList = [\"hi\", \"hello\", \"okay\", \"why\", \"what\"]\n",
    "exTuple = (\"fruit\", \"word\", \"sentence\", \"research\", \"hand\")\n",
    "print(exList)\n",
    "print(exTuple)"
   ]
  },
  {
   "cell_type": "markdown",
   "metadata": {},
   "source": [
    "Use code to retrieve the third element from your list and your tuple.  (Remember that Python indexing starts at zero, so the third element is index value 2.)\n",
    "\n",
    "\n",
    "<br>\n",
    "Now do the following to both of the list and tuple you wrote:\n",
    "\n",
    "- Retrieve the second-to-last element using a negative index\n",
    "<br>\n",
    "- Print a range of indexes\n",
    "\n",
    "Finally, change an item in your list using indexing.\n"
   ]
  },
  {
   "cell_type": "code",
   "execution_count": 14,
   "metadata": {},
   "outputs": [
    {
     "name": "stdout",
     "output_type": "stream",
     "text": [
      "okay\n",
      "sentence\n",
      "why\n",
      "research\n",
      "['hello', 'okay']\n",
      "('word', 'sentence')\n",
      "newValue\n"
     ]
    }
   ],
   "source": [
    "print(exList[2])\n",
    "print(exTuple[2])\n",
    "print(exList[-2])\n",
    "print(exTuple[-2])\n",
    "print(exList[1:3])\n",
    "print(exTuple[1:3])\n",
    "\n",
    "exList[3] = \"newValue\"\n",
    "print(exList[3])"
   ]
  },
  {
   "cell_type": "markdown",
   "metadata": {},
   "source": [
    "5\\. Create your own set containing at least five string elements.\n",
    "\n",
    "Check to see if the string \"Bob\" is in your set.  The output of this command should be a Boolean True or False.\n"
   ]
  },
  {
   "cell_type": "code",
   "execution_count": 12,
   "metadata": {},
   "outputs": [
    {
     "name": "stdout",
     "output_type": "stream",
     "text": [
      "True\n"
     ]
    }
   ],
   "source": [
    "exset = {\"Bob\", \"Sally\", \"Koji\", \"Hi\", \"okay\"}\n",
    "print(\"Bob\" in exset)"
   ]
  },
  {
   "cell_type": "markdown",
   "metadata": {},
   "source": [
    "6\\. Create your own dict containing at least five key:value pairs. \n",
    "\n",
    "Retrieve the *value* that is associated with one of your *keys*.\n",
    "\n",
    "Change the value of one of your parameters in the dict.\n"
   ]
  },
  {
   "cell_type": "code",
   "execution_count": 16,
   "metadata": {},
   "outputs": [
    {
     "name": "stdout",
     "output_type": "stream",
     "text": [
      "January\n",
      "10\n"
     ]
    }
   ],
   "source": [
    "exdict = {\n",
    "    \"key\": 3,\n",
    "    \"month\": \"January\", \n",
    "    \"okay\": \"hi\", \n",
    "    \"hello\": 4, \n",
    "    \"family\": \"cousins\", \n",
    "}\n",
    "\n",
    "print(exdict[\"month\"])\n",
    "exdict[\"hello\"] = 10\n",
    "print(exdict[\"hello\"])"
   ]
  },
  {
   "cell_type": "markdown",
   "metadata": {},
   "source": [
    "___"
   ]
  },
  {
   "cell_type": "markdown",
   "metadata": {},
   "source": [
    "<font size=5>Section 3: Strings</font>"
   ]
  },
  {
   "cell_type": "markdown",
   "metadata": {},
   "source": [
    "Strings are an integral data type in python. The reason strings are covered after the four sequence types is that strings are actually just lists. The same operations that work on lists will work on strings, and when used correctly, this can be a very useful tool.\n",
    "<br>\n",
    "However, as strings can be thought of as specialized lists, python has additional tools to make working with and manipulating strings even easier.\n",
    "<br>\n",
    "- .lower() : Makes the string lowercase\n",
    "- .upper() : Makes the string uppercase\n",
    "- .strip() : Removes whitespace from the begneing or end of a string\n",
    "- .split() : Splits the string at the given value\n",
    "- .replace() : Replaces a substring with another substring\n",
    "- There are many more, but these are probably the most useful"
   ]
  },
  {
   "cell_type": "markdown",
   "metadata": {},
   "source": [
    "7\\. Start off by creating two strings of three or more words and do the following things:\n",
    "- Print the strings\n",
    "- Combine the strings\n",
    "- Convert to all lowercase\n",
    "- Convert to all uppercase\n",
    "- Split one of the strings\n",
    "- Replace parts of one the strings"
   ]
  },
  {
   "cell_type": "code",
   "execution_count": 20,
   "metadata": {},
   "outputs": [
    {
     "name": "stdout",
     "output_type": "stream",
     "text": [
      "Hello\n",
      "Word\n",
      "hello\n",
      "word\n",
      "HELLO\n",
      "WORD\n",
      "['H', 'LLO']\n",
      "WOOD\n"
     ]
    }
   ],
   "source": [
    "first = \"Hello\"\n",
    "second = \"Word\"\n",
    "print(first)\n",
    "print(second)\n",
    "first = first.lower()\n",
    "second = second.lower()\n",
    "print(first)\n",
    "print(second)\n",
    "first = first.upper()\n",
    "second = second.upper()\n",
    "print(first)\n",
    "print(second)\n",
    "print(first.split(\"E\"))\n",
    "second = second.replace(\"RD\", \"OD\")\n",
    "print(second)\n",
    "\n"
   ]
  },
  {
   "cell_type": "markdown",
   "metadata": {},
   "source": [
    "___"
   ]
  },
  {
   "cell_type": "markdown",
   "metadata": {},
   "source": [
    "<font size=5>Section 4: Booleans and noneTypes</font>"
   ]
  },
  {
   "cell_type": "markdown",
   "metadata": {},
   "source": [
    "The last two important data types in python are Booleans and noneTypes. A Boolean is simply True or False (note that the capitalization is critical), while a noneType represents null or empty.\n",
    "<br>\n",
    "<br>\n",
    "Booleans in python are most often linked to comparisons [greater than ('>'), less than ('<'), equals ('=='), and not equal ('!=)] as *comparisons return a Boolean* as a result.\n",
    "<br>\n",
    "Booleans can also be used to test any variable or value, including but not limited to strings, ints, floats, lists, tuples, sets, dicts, etc.\n",
    "<br>\n",
    "<br>\n",
    "Of note is that in python a 'True' bool is equal to 1, while a 'False' bool is equal to 0. This has some interesting applications for data processing and analysis."
   ]
  },
  {
   "cell_type": "markdown",
   "metadata": {},
   "source": [
    "8\\. Start by writing a statement for each of the comparison types (<, >, ==, !=). \n",
    "\n",
    "<br>\n",
    "Then add or subtract two Booleans, first by using True and False, and then by using comparisons like (3 != 4) + (5 < 3).  \n",
    "<br>\n",
    "\n",
    "What is the result of using + to add True and False?  What is the result of using + to add a true comparison and a false comparison?  What is the result of using & and | to compare your true comparison and your false comparison?  Demonstrate with lines of code.\n",
    "<br>\n",
    "<br>\n",
    "\n"
   ]
  },
  {
   "cell_type": "code",
   "execution_count": 21,
   "metadata": {},
   "outputs": [
    {
     "name": "stdout",
     "output_type": "stream",
     "text": [
      "True\n",
      "False\n",
      "False\n",
      "True\n"
     ]
    }
   ],
   "source": [
    "g = True\n",
    "h = False\n",
    "print(g > h)\n",
    "print(g < h)\n",
    "print(g == h)\n",
    "print (g != h)"
   ]
  },
  {
   "cell_type": "code",
   "execution_count": 24,
   "metadata": {},
   "outputs": [
    {
     "name": "stdout",
     "output_type": "stream",
     "text": [
      "1\n",
      "1\n",
      "1\n",
      "0\n",
      "0\n",
      "False\n",
      "True\n"
     ]
    }
   ],
   "source": [
    "print(True + False)\n",
    "print(g + h)\n",
    "print(g - h)\n",
    "print((5 != 10) - (3 < 10))\n",
    "print((2 == 10) + (3 < 0))\n",
    "print((2 == 10) & (3 < 0))\n",
    "print((2 == 10) | (3 > 0))\n",
    "\n",
    "\n",
    "#the result of adding True and False was 1. This is because True = 1, and False = 0, so 1 + 0 = 1\n",
    "# the result of adding a true and false comparison is similar. Once the comparison operator is calculated to a boolean value, it can easily be added / subtracted as a true and false value. \n",
    "#the result of using the & and | operators doesn't print a 1 or a 0 to represent the boolean, but instead, prints True or False. "
   ]
  },
  {
   "cell_type": "markdown",
   "metadata": {},
   "source": [
    "___"
   ]
  },
  {
   "cell_type": "markdown",
   "metadata": {},
   "source": [
    "9\\. If you have any additional questions, comments, or concerns, please state them below and we will do our best to address them"
   ]
  },
  {
   "cell_type": "code",
   "execution_count": null,
   "metadata": {},
   "outputs": [],
   "source": []
  },
  {
   "cell_type": "markdown",
   "metadata": {},
   "source": [
    "List all of your sources here:"
   ]
  },
  {
   "cell_type": "markdown",
   "metadata": {},
   "source": []
  }
 ],
 "metadata": {
  "kernelspec": {
   "display_name": "Python 3 (ipykernel)",
   "language": "python",
   "name": "python3"
  },
  "language_info": {
   "codemirror_mode": {
    "name": "ipython",
    "version": 3
   },
   "file_extension": ".py",
   "mimetype": "text/x-python",
   "name": "python",
   "nbconvert_exporter": "python",
   "pygments_lexer": "ipython3",
   "version": "3.12.7"
  },
  "toc": {
   "base_numbering": 1,
   "nav_menu": {},
   "number_sections": true,
   "sideBar": true,
   "skip_h1_title": false,
   "title_cell": "Table of Contents",
   "title_sidebar": "Contents",
   "toc_cell": true,
   "toc_position": {},
   "toc_section_display": true,
   "toc_window_display": false
  }
 },
 "nbformat": 4,
 "nbformat_minor": 4
}
