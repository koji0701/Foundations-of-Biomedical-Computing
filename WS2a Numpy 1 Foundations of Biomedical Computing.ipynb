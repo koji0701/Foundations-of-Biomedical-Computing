{
 "cells": [
  {
   "cell_type": "markdown",
   "metadata": {
    "toc": true
   },
   "source": [
    "<h1>Table of Contents<span class=\"tocSkip\"></span></h1>\n",
    "<div class=\"toc\"><ul class=\"toc-item\"></ul></div>"
   ]
  },
  {
   "cell_type": "markdown",
   "metadata": {},
   "source": [
    "<font size=6>Foundations of Biomedical Computing</font>"
   ]
  },
  {
   "cell_type": "markdown",
   "metadata": {},
   "source": [
    "<font size=5>Worksheet #2a - NumPy Basics</font>"
   ]
  },
  {
   "cell_type": "markdown",
   "metadata": {},
   "source": [
    "The focus of this assignment will be on the basics of NumPy. NumPy is an incredibly powerful and fast matrix math and linear algebra library that allows us to perform data analysis with much greater ease than the built-in python lists."
   ]
  },
  {
   "cell_type": "markdown",
   "metadata": {},
   "source": [
    "___"
   ]
  },
  {
   "cell_type": "markdown",
   "metadata": {},
   "source": [
    "<font size=5>IMPORTANT</font>"
   ]
  },
  {
   "cell_type": "markdown",
   "metadata": {},
   "source": [
    "It may be possible that NumPy libary is not present on your system. Just to ensure that this is not the case, run the following cells to ensure that NumPy is installed and imported to use for this notebook. Just note that it may take a minute or two to install and setup."
   ]
  },
  {
   "cell_type": "code",
   "execution_count": null,
   "metadata": {},
   "outputs": [],
   "source": [
    "# uncomment the command below and run if necessary\n",
    "# pip install numpy "
   ]
  },
  {
   "cell_type": "code",
   "execution_count": 3,
   "metadata": {},
   "outputs": [],
   "source": [
    "import numpy as np"
   ]
  },
  {
   "cell_type": "markdown",
   "metadata": {},
   "source": [
    "___"
   ]
  },
  {
   "cell_type": "markdown",
   "metadata": {},
   "source": [
    "<font size=5>Section 1: Arrays</font>"
   ]
  },
  {
   "cell_type": "markdown",
   "metadata": {},
   "source": [
    "___"
   ]
  },
  {
   "cell_type": "markdown",
   "metadata": {},
   "source": [
    "Here are a number of ways to create NumPy arrays, both with and without initial data. The list below includes some, but not all of the methods to generate arrays in NumPy.\n",
    "<br>\n",
    "To generate arrays *without* initial data: \n",
    "- `numpy.empty(shape, dtype=..)` – not initialized, by default dtype is float\n",
    "- `numpy.zeros(shape, dtype=..)` – initialized with zeros, by default dtype is float\n",
    "- `numpy.ones(shape, dtype=..)` – initialized with ones, by default dtype is float\n",
    "- `numpy.arange(shape, dtype=..)` – initialized with sequential numbers, by default dtype is int\n",
    "- `numpy.linspace(v1, v2, nsam)` – initialized with values from v1 to v2 taking nsam evenly distributed samples\n",
    "- `np.eye(row,col, k=..)` – Return a 2-D array with ones on the k-th diagonal and zeros elsewhere. Default k=0\n",
    "[//]: # (Hello)\n",
    "\n",
    "\n",
    "To generate arrays *with* initial data:\n",
    "- `numpy.array(data)`\n",
    "[//]: # (Hello)\n",
    "\n",
    "Also of note are the attributes every NumPy array has, as a refresher, these are:\n",
    "- Dimensions -> `array.ndim`\n",
    "- Shape -> `array.shape`\n",
    "- Size ->`array.size`\n",
    "- Type -> `array.dtype`\n",
    "- Item Size -> `array.itemsize`\n",
    "- Data -> `array.data`"
   ]
  },
  {
   "cell_type": "markdown",
   "metadata": {},
   "source": [
    "1\\. Using the Array creation methods from above, create a 1D numpy array of numbers from 0 to 9, *without* manually specifying the values.\n"
   ]
  },
  {
   "cell_type": "code",
   "execution_count": 7,
   "metadata": {},
   "outputs": [
    {
     "name": "stdout",
     "output_type": "stream",
     "text": [
      "[0 1 2 3 4 5 6 7 8 9]\n"
     ]
    }
   ],
   "source": [
    "array0to9 = np.arange(0,10, dtype = int)\n",
    "print(array0to9)"
   ]
  },
  {
   "cell_type": "markdown",
   "metadata": {},
   "source": [
    "2\\. Create a 2D numpy array of zeros, with dimensions of 3x3."
   ]
  },
  {
   "cell_type": "code",
   "execution_count": 13,
   "metadata": {},
   "outputs": [
    {
     "name": "stdout",
     "output_type": "stream",
     "text": [
      "[[0. 0. 0.]\n",
      " [0. 0. 0.]\n",
      " [0. 0. 0.]]\n"
     ]
    }
   ],
   "source": [
    "array3x3 = np.zeros((3,3))\n",
    "print(array3x3)"
   ]
  },
  {
   "cell_type": "markdown",
   "metadata": {},
   "source": [
    "3\\. Create a 2D numpy array with a diagonal of ones, with dimensions of 5x5."
   ]
  },
  {
   "cell_type": "code",
   "execution_count": 14,
   "metadata": {},
   "outputs": [
    {
     "name": "stdout",
     "output_type": "stream",
     "text": [
      "[[1. 0. 0. 0. 0.]\n",
      " [0. 1. 0. 0. 0.]\n",
      " [0. 0. 1. 0. 0.]\n",
      " [0. 0. 0. 1. 0.]\n",
      " [0. 0. 0. 0. 1.]]\n"
     ]
    }
   ],
   "source": [
    "array5x5 = np.eye(5,5,k=0)\n",
    "print(array5x5)"
   ]
  },
  {
   "cell_type": "markdown",
   "metadata": {},
   "source": [
    "4\\. Create a 1D numpy array with the following values: 7, 3, 23, 456, 192, 254."
   ]
  },
  {
   "cell_type": "code",
   "execution_count": 16,
   "metadata": {},
   "outputs": [
    {
     "name": "stdout",
     "output_type": "stream",
     "text": [
      "[  7   3  23 456 192 254]\n"
     ]
    }
   ],
   "source": [
    "array1d = np.array([7, 3, 23, 456, 192, 254])\n",
    "print(array1d)"
   ]
  },
  {
   "cell_type": "markdown",
   "metadata": {},
   "source": [
    "5\\. Create a 1D numpy array of 50 evenly spaced values between 1 and 10."
   ]
  },
  {
   "cell_type": "code",
   "execution_count": 22,
   "metadata": {},
   "outputs": [
    {
     "name": "stdout",
     "output_type": "stream",
     "text": [
      "[0.  0.2 0.4 0.6 0.8 1.  1.2 1.4 1.6 1.8 2.  2.2 2.4 2.6 2.8 3.  3.2 3.4\n",
      " 3.6 3.8 4.  4.2 4.4 4.6 4.8 5.  5.2 5.4 5.6 5.8 6.  6.2 6.4 6.6 6.8 7.\n",
      " 7.2 7.4 7.6 7.8 8.  8.2 8.4 8.6 8.8 9.  9.2 9.4 9.6 9.8]\n",
      "50\n"
     ]
    }
   ],
   "source": [
    "array1d50 = np.arange(0,10,0.2)\n",
    "print(array1d50)\n"
   ]
  },
  {
   "cell_type": "markdown",
   "metadata": {},
   "source": [
    "NumPy arrays also allow for the easy application of array operations. These look like and work very similarly to list comprehensions for traditional python lists. An example which replaces all odd numbers with -1 is as follows:\n",
    "<br>\n",
    "`arr[arr % 2 == 1] = -1`"
   ]
  },
  {
   "cell_type": "markdown",
   "metadata": {},
   "source": [
    "6\\. Using the technique from above, write a array operation that extracts all numbers divisible by 5 from an array of 100 numbers."
   ]
  },
  {
   "cell_type": "code",
   "execution_count": 24,
   "metadata": {},
   "outputs": [
    {
     "name": "stdout",
     "output_type": "stream",
     "text": [
      "[ 0  5 10 15 20 25 30 35 40 45 50 55 60 65 70 75 80 85 90 95]\n"
     ]
    }
   ],
   "source": [
    "arr100 = np.arange(0,100)\n",
    "print(arr100[arr100 % 5 == 0])"
   ]
  },
  {
   "cell_type": "markdown",
   "metadata": {},
   "source": [
    "___"
   ]
  },
  {
   "cell_type": "markdown",
   "metadata": {},
   "source": [
    "<font size=5>Section 2: Indexing and Slicing</font>"
   ]
  },
  {
   "cell_type": "markdown",
   "metadata": {},
   "source": [
    "Indexing and slicing form the basis of all array operations, and luckily, indexing and slicing for NumPy arrays is quite similar to Python's standard list indexing and slicing. \n",
    "<br>\n"
   ]
  },
  {
   "cell_type": "markdown",
   "metadata": {},
   "source": [
    "7\\. Create a 2D array with 4 rows and 5 columns and do the following to it:\n",
    "- Create a subarray of the first two rows and first 3 columns\n",
    "- Create a subarray of all rows, but every other column\n",
    "- Create a subarray of every other row, but all columns\n",
    "- Reverse all of the rows and all of the columns in the array\n",
    "[//]: # (Hello)\n",
    "Each of these can be done with one array slicing call."
   ]
  },
  {
   "cell_type": "code",
   "execution_count": 52,
   "metadata": {},
   "outputs": [
    {
     "name": "stdout",
     "output_type": "stream",
     "text": [
      "[[ 0  1  2  3  4]\n",
      " [ 5  6  7  8  9]\n",
      " [10 11 12 13 14]\n",
      " [15 16 17 18 19]]\n",
      "[[0 1 2]\n",
      " [5 6 7]]\n",
      "[[ 0  2  4]\n",
      " [ 5  7  9]\n",
      " [10 12 14]\n",
      " [15 17 19]]\n",
      "[[ 0  1  2  3  4]\n",
      " [10 11 12 13 14]]\n",
      "[[19 18 17 16 15]\n",
      " [14 13 12 11 10]\n",
      " [ 9  8  7  6  5]\n",
      " [ 4  3  2  1  0]]\n"
     ]
    }
   ],
   "source": [
    "arr45 = np.arange(20).reshape(4,5)\n",
    "print(arr45)\n",
    "\n",
    "sub1 = arr45[:2,:3]\n",
    "print(sub1)\n",
    "\n",
    "sub2 = arr45[:, ::2]\n",
    "print(sub2)\n",
    "\n",
    "sub3 = arr45[::2, :]\n",
    "print(sub3)\n",
    "\n",
    "arr45 = arr45[::-1, ::-1]\n",
    "print(arr45)"
   ]
  },
  {
   "cell_type": "markdown",
   "metadata": {},
   "source": [
    "___"
   ]
  },
  {
   "cell_type": "markdown",
   "metadata": {},
   "source": [
    "<font size=5>Section 3: Resizing</font>"
   ]
  },
  {
   "cell_type": "markdown",
   "metadata": {},
   "source": [
    "Resizing is critically important to dealing with arrays. Numpy includes functions to resize arrays, which can be called via `np.resize(a,new_shape)`"
   ]
  },
  {
   "cell_type": "markdown",
   "metadata": {},
   "source": [
    "8\\. Using the resize method, convert the following arrays:\n",
    "- Create a 8 element 1D array and convert it to a 2x4 2D array\n",
    "- Create a 12 element 1D and convert it to a 4x3 2D array\n",
    "- Create a 60 element 1D and convert it to a 3x4x5 3D array"
   ]
  },
  {
   "cell_type": "code",
   "execution_count": 54,
   "metadata": {},
   "outputs": [
    {
     "name": "stdout",
     "output_type": "stream",
     "text": [
      "[[0 1 2 3]\n",
      " [4 5 6 7]]\n",
      "[[ 0  1  2]\n",
      " [ 3  4  5]\n",
      " [ 6  7  8]\n",
      " [ 9 10 11]]\n",
      "[[[ 0  1  2  3  4]\n",
      "  [ 5  6  7  8  9]\n",
      "  [10 11 12 13 14]\n",
      "  [15 16 17 18 19]]\n",
      "\n",
      " [[20 21 22 23 24]\n",
      "  [25 26 27 28 29]\n",
      "  [30 31 32 33 34]\n",
      "  [35 36 37 38 39]]\n",
      "\n",
      " [[40 41 42 43 44]\n",
      "  [45 46 47 48 49]\n",
      "  [50 51 52 53 54]\n",
      "  [55 56 57 58 59]]]\n"
     ]
    }
   ],
   "source": [
    "arr8 = np.arange(8)\n",
    "arr8 = arr8.reshape(2,4)\n",
    "print(arr8)\n",
    "\n",
    "arr12 = np.arange(12)\n",
    "arr12 = arr12.reshape(4,3)\n",
    "print(arr12)\n",
    "\n",
    "arr60 = np.arange(60)\n",
    "arr60 = arr60.reshape(3,4,5)\n",
    "print(arr60)\n"
   ]
  },
  {
   "cell_type": "markdown",
   "metadata": {},
   "source": [
    "___"
   ]
  },
  {
   "cell_type": "markdown",
   "metadata": {},
   "source": [
    "<font size=5>Warmup for the Love Data Week Games</font>"
   ]
  },
  {
   "cell_type": "markdown",
   "metadata": {},
   "source": [
    "Love Data Week is coming up soon - It's Feb 10-14!\n",
    "\n",
    "There will be seminars and data-inspired activities in the real world, but we'll imagine a fictitious charity games day to practice numpy skills.\n",
    "\n",
    "<font size=5>The Love Data Week Games are coming up soon!</font>\n",
    "\n",
    "Biomedical Data Scientists from all over the world are competing on the same day to build community and raise money for ventures that improve access to health care worldwide.  Two teams from St. Louis, the Bread-Sliced Bagels and the Toasted Raviolis, decide to enter."
   ]
  },
  {
   "cell_type": "markdown",
   "metadata": {},
   "source": [
    "9\\. The teams begin training for the Running Race.\n",
    "\n",
    "The task is to create an array of 1000 random integers between 0 and 9, and divide all of the integers by 2.\n",
    "\n",
    "Team Bread-sliced Bagels plans to use a regular python function to do this.  Write code for Team Bread-sliced Bagels that creates a normal python list of 1000 random integers, then creates a function using *def* that uses a for loop to step through the list and divides each element by 2.  The function should return the new array."
   ]
  },
  {
   "cell_type": "code",
   "execution_count": 79,
   "metadata": {},
   "outputs": [],
   "source": [
    "import random\n",
    "\n",
    "bagels = [random.randint(0,9) for i in range(0,1000)]\n",
    "def divide(arr: list[int]) -> list[float]:\n",
    "    for i in range(0,1000):\n",
    "        arr[i] = arr[i] / 2\n",
    "    return arr\n"
   ]
  },
  {
   "cell_type": "markdown",
   "metadata": {},
   "source": [
    "Team Toasted Ravioli plans to use numpy to do this.  Write code for Team Toasted Ravioli to create the array using numpy, then using a numpy ufunc to divide all of the integers by 2."
   ]
  },
  {
   "cell_type": "code",
   "execution_count": 80,
   "metadata": {},
   "outputs": [],
   "source": [
    "ravioli = np.random.rand(1000)\n",
    "\n",
    "def npdivide(arr: np.ndarray) -> np.ndarray:\n",
    "    arr = np.divide(arr, 2)\n",
    "    return arr\n",
    "\n"
   ]
  },
  {
   "cell_type": "markdown",
   "metadata": {},
   "source": [
    "Use %timeit to determine how fast each team completes the race.  Which team is faster?  Is this what you expect?"
   ]
  },
  {
   "cell_type": "code",
   "execution_count": 81,
   "metadata": {},
   "outputs": [
    {
     "name": "stdout",
     "output_type": "stream",
     "text": [
      "53.8 μs ± 2.29 μs per loop (mean ± std. dev. of 7 runs, 10,000 loops each)\n",
      "1.19 μs ± 13.6 ns per loop (mean ± std. dev. of 7 runs, 1,000,000 loops each)\n"
     ]
    }
   ],
   "source": [
    "%timeit divide(bagels)\n",
    "%timeit npdivide(ravioli)"
   ]
  },
  {
   "cell_type": "code",
   "execution_count": 82,
   "metadata": {},
   "outputs": [],
   "source": [
    "# ravioli is significantly faster than bagels since it is using numpy. the numpy npdivide runs significantly faster. \n",
    "# this is expected, since numpy has better performance than regular python"
   ]
  },
  {
   "cell_type": "code",
   "execution_count": null,
   "metadata": {},
   "outputs": [],
   "source": []
  }
 ],
 "metadata": {
  "kernelspec": {
   "display_name": "Python 3 (ipykernel)",
   "language": "python",
   "name": "python3"
  },
  "language_info": {
   "codemirror_mode": {
    "name": "ipython",
    "version": 3
   },
   "file_extension": ".py",
   "mimetype": "text/x-python",
   "name": "python",
   "nbconvert_exporter": "python",
   "pygments_lexer": "ipython3",
   "version": "3.13.0"
  },
  "toc": {
   "base_numbering": 1,
   "nav_menu": {},
   "number_sections": true,
   "sideBar": true,
   "skip_h1_title": false,
   "title_cell": "Table of Contents",
   "title_sidebar": "Contents",
   "toc_cell": true,
   "toc_position": {},
   "toc_section_display": true,
   "toc_window_display": false
  },
  "varInspector": {
   "cols": {
    "lenName": 16,
    "lenType": 16,
    "lenVar": 40
   },
   "kernels_config": {
    "python": {
     "delete_cmd_postfix": "",
     "delete_cmd_prefix": "del ",
     "library": "var_list.py",
     "varRefreshCmd": "print(var_dic_list())"
    },
    "r": {
     "delete_cmd_postfix": ") ",
     "delete_cmd_prefix": "rm(",
     "library": "var_list.r",
     "varRefreshCmd": "cat(var_dic_list()) "
    }
   },
   "types_to_exclude": [
    "module",
    "function",
    "builtin_function_or_method",
    "instance",
    "_Feature"
   ],
   "window_display": false
  }
 },
 "nbformat": 4,
 "nbformat_minor": 4
}
