{
 "cells": [
  {
   "cell_type": "markdown",
   "metadata": {
    "toc": true
   },
   "source": [
    "<h1>Table of Contents<span class=\"tocSkip\"></span></h1>\n",
    "<div class=\"toc\"><ul class=\"toc-item\"></ul></div>"
   ]
  },
  {
   "cell_type": "markdown",
   "metadata": {},
   "source": [
    "<font size=6>Foundations of Biomedical Computing</font>"
   ]
  },
  {
   "cell_type": "markdown",
   "metadata": {},
   "source": [
    "<font size=5>Worksheet #2b - NumPy: Computations</font>"
   ]
  },
  {
   "cell_type": "markdown",
   "metadata": {},
   "source": [
    "The focus of this assignment will be on the computational tools built into NumPy. These include aggregations, universal functions, masks, and sorting.\n",
    "<br>\n",
    "Understanding these computational tools in NumPy will make your life as a data scientist easier and more efficient. "
   ]
  },
  {
   "cell_type": "markdown",
   "metadata": {},
   "source": [
    "___"
   ]
  },
  {
   "cell_type": "code",
   "execution_count": 1,
   "metadata": {},
   "outputs": [],
   "source": [
    "import numpy as np"
   ]
  },
  {
   "cell_type": "markdown",
   "metadata": {},
   "source": [
    "___"
   ]
  },
  {
   "cell_type": "markdown",
   "metadata": {},
   "source": [
    "<font size=5>Section 1: Aggregations</font>"
   ]
  },
  {
   "cell_type": "markdown",
   "metadata": {},
   "source": [
    "Some of the most useful built-in NumPy methods are the aggregations. This is the case as often when faced with daunting amounts of data, a first step is to compute summary statistics for the data in question. Perhaps the most common summary statistics are the mean and standard deviation, which allow you to summarize the \"typical\" values in a dataset, but other aggregates are useful as well, such as the sum, product, median, minimum and maximum, quantiles, etc..\n",
    "<br>\n",
    "<br>\n"
   ]
  },
  {
   "cell_type": "markdown",
   "metadata": {},
   "source": [
    "___"
   ]
  },
  {
   "cell_type": "markdown",
   "metadata": {},
   "source": [
    "There are a vast number of statistical aggregations present in NumPy, and the whole list can be found here: https://numpy.org/doc/stable/reference/routines.statistics.html"
   ]
  },
  {
   "cell_type": "markdown",
   "metadata": {},
   "source": [
    "1\\. Create a 1D numpy array of 1000 random numbers from 0 to 999.\n",
    "<br>\n",
    "Now use numpy commands to find the following for the array:\n",
    "- The Mean, Median, Max, and Min\n",
    "[//]: # (Hello)\n"
   ]
  },
  {
   "cell_type": "code",
   "execution_count": 2,
   "metadata": {},
   "outputs": [
    {
     "name": "stdout",
     "output_type": "stream",
     "text": [
      "[ 91 126 376 376 867 335 915 584  33 649 876 364 193  11 529 174 668   0\n",
      " 491 710  50 558 822 898 188  19  64 677 911 804  73 990 659 599 945  82\n",
      " 503 539  50 918 177 788 971 168 953 288 832 902 795  89 862 311 903 155\n",
      " 798 104 287  23 458 879 112 712 675 597  53 798 243 946 994  90 660 933\n",
      " 835 595 122  93 653 212 489  37 553 240 822 730  32 776  43 841 877 323\n",
      " 546 702 335 895 110  96 422 658 375 938 844 878 318 304 901 780 524   2\n",
      "   3  85  94 886 136 454 956 333 784 386   5  39 777  20 689 540 617 592\n",
      " 567 965 254 633 301 325  18 450 251 751  57 185  79 484 412 474 390  31\n",
      " 777 671 295 621 204 930 356 247 469 333 960 520 870 288 964 420 577 239\n",
      " 440 566 638 635 478   3 770 785 368 110 313 659 384 516 404 483 962 671\n",
      " 976 305 471 102 242 142 206 785 610  45 347 183 377 328  59 269 955  17\n",
      " 195 849 978 694 992 359 800 925 340 521 190 952 625 455 426 846 702 810\n",
      " 387 730  54 119 618 758 808 697 716  17 342 442 407 379  33  44 351  75\n",
      " 529 241 616 874 323 171 151 362 535 100  87 979 920 484 941  23 770 619\n",
      " 789 438 272 422  37 126 174 580 920 290 472 181 309 951 676 153 321  49\n",
      " 324 181 105 101 610 748 166 694 656 155 478 821 485 676 313 947 384 294\n",
      " 275 557  55 847 557 344 928 903 947 825  49 614 131 134  93 101 917 997\n",
      " 535 919 308 618 313  98 695 801 437  90 183 299 756 792 835 830 174 188\n",
      " 622 643 334 801 473 253 220 445 125 911 659 633  63 653 137 110 298 693\n",
      "  76 716 735 735 245  38 489 856 891 842 460 226 622 575 781 737 873 875\n",
      " 491 383 529 490 947 491  10 528 914 898 905 473 525 535 861 716 734 766\n",
      " 661  17 908 636 955 238 581 108 248 361 953 377 965 833  61 984 740 802\n",
      " 113 220  73 699 674 421 639 245 780 585 121 665 743 653 820 187 623 175\n",
      " 660 356 647  46 431 380 551 888 386 269 593  82 505 699 101 972 724 236\n",
      " 319 386 740 120 250 762  82 495  15 376 368 714 904 288 815 656  23 617\n",
      " 346 434 685 947 662 482 454 500 258 350 851 529 881 454 297 529 311  19\n",
      "  49 379  28 735 730 735 978 366 162 553 693 517 307 348  50 868 762 786\n",
      " 696 526 867 842 469 104 200 991  56 940  68 763 944 890 386 144 667 682\n",
      "  77 380 898  60 858 645 192 839 318 905   0 732 934 705 294 966 741 314\n",
      " 835 855 514 379 962 203 151 895 679  99 412 112 720 179  70 428 926   8\n",
      " 629  29 651 894 175 185  65 626 131 922 647 968 811 482 482 555 766 148\n",
      " 263 199 491 751  80 982 602 491  27 403 574 105 417 509 446 349 511 831\n",
      " 824 561 814 748 488 348 721 311 984 730 154 764 340 250 137 615 813  30\n",
      " 203 530 758  70 666 672  29 763 441 602 607 693  18 239  99 478 705 787\n",
      " 346 102 104  62 845 863 282 312 398 732 844 703  21   3 934 859 156 494\n",
      " 925 503 108 124 327 912 939 930 564 515  13 677  88 367 776 727  28 822\n",
      " 778 402 812 223 980 970 185 865 291 576 737 280 974 790 902 151 288 819\n",
      " 302 407 137 462 942 930 686 843 874  55 435 650 219 343 995 541 527 269\n",
      " 721 835 238 101 231 388 124 668 747 172 789 571  18 963 848 112 924 592\n",
      " 840 597 719 258 738 889 388  84 323 444  90 196 182 451 681 263 416 721\n",
      " 974 749 934 158 626 364 925 682 996 328 753 119  43 637 575 300 587 378\n",
      " 866 598 351 922 788 667 590  40 652  48 360 268 712 753 259 110 385 516\n",
      " 985 963 194  31 321 756 234 614  81 957 208 626 801 563 913 109 501 376\n",
      " 682 669 984 194 890  41 426 106 584 863 472 873 395 632 139  32 849 667\n",
      " 500 550 545 724 150 653 995 166 359 903 974 774 534 832 844 911 492 412\n",
      " 612 292 171 488 111 512 642 673 895 573 851 318  47 771 901 658 997 472\n",
      " 276 969 125 142 338  68 747 993 986 112 588 268 392 623 969 253 512 752\n",
      " 116 358 245 250 888  33 701 682 257  96 792 166 773 305 488  94 527 837\n",
      " 919  41 841 892 726 523 872 266  18  99 778  54 219 573 852 887 423 205\n",
      " 877 128 108 529 422 180 477 881 878 945 276 943 698 653 413 265 518 987\n",
      " 497 524 276 470 492 566  51 334 585 627 748 887 319  89 697 655 616 272\n",
      " 381 319 802 775 324 257 848 596 660 526  45 705  92  66 457  37 703 835\n",
      " 677 188 685 283 770 859 178 418  34 533 410 724 394 574 168  64 703 230\n",
      " 205 514 326 418 667 230 406 830 911 326 516 897  81 957 344 353 653 345\n",
      " 743 283 471 516 598 409 823 987 609 559 983  47 639 990 799 579  71 370\n",
      "  67  89 855  14 502 112 194 863  62  95]\n",
      "499.284\n",
      "510.0\n",
      "0\n"
     ]
    }
   ],
   "source": [
    "arr = np.random.randint(0,1000,size=1000)\n",
    "print(arr)\n",
    "print(np.mean(arr))\n",
    "print(np.median(arr))\n",
    "print(np.min(arr))\n"
   ]
  },
  {
   "cell_type": "markdown",
   "metadata": {},
   "source": [
    "2\\. Now create a 2D, 2x25 numpy array of random numbers from 0 to 999 and calculate the following:\n",
    "- The Sum for axis = 0\n",
    "- The Sum for axis = 1\n",
    "- The total sum\n",
    "\n",
    "What is the size of the output array for each of those sums? From this, what does it mean to perform an operation on axis=0 and axis=1? "
   ]
  },
  {
   "cell_type": "code",
   "execution_count": 3,
   "metadata": {},
   "outputs": [
    {
     "name": "stdout",
     "output_type": "stream",
     "text": [
      "[[968 892  68 269 182 717 573 978 536  39 322 114 844 114 536 878 777 412\n",
      "  693 748 126 680 623 817 429]\n",
      " [555 857 439 639 463 409 967 915 561 284 431 415 285 470 321  80 787 394\n",
      "  927 771 739 465 965 156 482]]\n",
      "[1523 1749  507  908  645 1126 1540 1893 1097  323  753  529 1129  584\n",
      "  857  958 1564  806 1620 1519  865 1145 1588  973  911]\n",
      "[13335 13777]\n",
      "27112\n"
     ]
    }
   ],
   "source": [
    "arr = np.random.randint(0,1000,size=(2,25))\n",
    "print(arr)\n",
    "print(np.sum(arr, axis=0))\n",
    "print(np.sum(arr, axis=1))\n",
    "print(np.sum(arr))\n",
    "\n",
    "# the size of the output array for summing axis=0 is 25. this is since it is performing the sum of each column in the 2x25 array\n",
    "# the size of the output array for summing axis=1 is 2. this is since it is performing the sum of each row in the 2x25 array"
   ]
  },
  {
   "cell_type": "markdown",
   "metadata": {},
   "source": [
    "___"
   ]
  },
  {
   "cell_type": "markdown",
   "metadata": {},
   "source": [
    "<font size=5>Section 2: Universal Functions</font>"
   ]
  },
  {
   "cell_type": "markdown",
   "metadata": {},
   "source": [
    "There are a vast number of universal functions present in NumPy, and though many of them seem trivial to implement and use, the ease of use and speedup provided by NumPy make these functions critical.\n",
    "<br>\n",
    "<br>\n"
   ]
  },
  {
   "cell_type": "markdown",
   "metadata": {},
   "source": [
    "NumPy also has UFunctions for more complex operations like logs, sqrt, cos, sin, abs, etc."
   ]
  },
  {
   "cell_type": "markdown",
   "metadata": {},
   "source": [
    "___"
   ]
  },
  {
   "cell_type": "markdown",
   "metadata": {},
   "source": [
    "<font size=5>Section 3: Comparisons, Masks, and Boolean Logic</font>"
   ]
  },
  {
   "cell_type": "markdown",
   "metadata": {},
   "source": [
    "Arguably the most empowering use of NumPy is masking. Masking allows you to quickly and easily filter large amounts of data from an array. For instance, masking comes up when you want to extract, modify, count, or otherwise manipulate values in an array based on some criterion:\n",
    "<br>\n",
    "<br>\n",
    "For example, you might wish to count all values greater than a certain value, or perhaps remove all outliers that are above some threshold. In NumPy, Boolean masking is often the most efficient way to accomplish these types of tasks."
   ]
  },
  {
   "cell_type": "markdown",
   "metadata": {},
   "source": [
    "**Lets use the example of counting rainy days:**\n",
    "<br>\n",
    "For a moment let's imagine we have a series of data that represents the amount of precipitation each day for a year in a given city. In this case, we will load the daily rainfall statistics for the city of Seattle in 2014, using Pandas (which is the topic for the next lecture):"
   ]
  },
  {
   "cell_type": "code",
   "execution_count": 4,
   "metadata": {},
   "outputs": [],
   "source": [
    "import numpy as np\n",
    "import pandas as pd\n",
    "\n",
    "# use pandas to extractSeattle rainfall inches as a NumPy array\n",
    "rainfall = pd.read_csv('Seattle2014.csv')['PRCP'].values\n",
    "inches = rainfall / 254.0  # 1/10mm -> inches\n"
   ]
  },
  {
   "cell_type": "markdown",
   "metadata": {},
   "source": [
    "We can see that the array contains 365 values, giving daily rainfall in inches from January 1 to December 31, 2014.\n",
    "<br>\n",
    "As a first quick visualization, let's look at the histogram of rainy days, which was generated using Matplotlib (we will explore this tool more fully in a few weeks from now):"
   ]
  },
  {
   "cell_type": "code",
   "execution_count": 5,
   "metadata": {},
   "outputs": [
    {
     "data": {
      "text/plain": [
       "Text(0.5, 1.0, 'Histogram of daily rainfall in inches')"
      ]
     },
     "execution_count": 5,
     "metadata": {},
     "output_type": "execute_result"
    },
    {
     "data": {
      "image/png": "[encoded data removed]",
      "text/plain": [
       "<Figure size 640x480 with 1 Axes>"
      ]
     },
     "metadata": {},
     "output_type": "display_data"
    }
   ],
   "source": [
    "#%matplotlib inline - i commented this out to see the graph   \n",
    "import matplotlib.pyplot as plt\n",
    "import seaborn; seaborn.set()  # set plot styles\n",
    "plt.hist(inches, 40)\n",
    "plt.title('Histogram of daily rainfall in inches')"
   ]
  },
  {
   "cell_type": "markdown",
   "metadata": {},
   "source": [
    "This histogram gives us a general idea of what the data looks like, However, it doesn't do a good job of conveying some information we'd like to see: \n",
    "- How many rainy days were there in the year? \n",
    "- What is the average precipitation on those rainy days? \n",
    "- How many days were there with more than half an inch of rain?"
   ]
  },
  {
   "cell_type": "markdown",
   "metadata": {},
   "source": [
    "As you know, comparison operators (`<`, `>`) are also available as UFunctions to NumPy arrays (see this lecture and the last worksheet), so armed with this knowledge, we can do a lot to analyze this data.\n",
    "<br>\n",
    "<br>\n",
    "But before that let's review the counting UFunctions built into NumPy.  Here are some examples:"
   ]
  },
  {
   "cell_type": "markdown",
   "metadata": {},
   "source": [
    "4\\. The following code creates a 3x4 2D array with values between 0 and 9 and a starting random state of 17.\n",
    "<br>\n",
    "Study the code and see how it solves the following problems. Uncomment each line to see the result.\n",
    "\n",
    "- Generate a boolean array of which values are greater than 4\n",
    "- Count the number of values less than 4\n",
    "- Count the number of values less than 4 in another way, using a function we already know (remember that true=1)\n",
    "- Find the number of values less than 4 in each row\n",
    "- Find the number of values less than 4 in each column\n",
    "- Find if there are any values greater than 8 (should return True or False)\n",
    "- Find if there are any values less than 0 (should return True or False)\n",
    "- Find if all values are less than 10 (should return True or False)\n",
    "[//]: # (Hello)\n",
    "\n",
    "Notice that all of these problems are solved with a single UFunction call.\n"
   ]
  },
  {
   "cell_type": "code",
   "execution_count": 33,
   "metadata": {},
   "outputs": [
    {
     "name": "stdout",
     "output_type": "stream",
     "text": [
      "[[1 6 6 0]\n",
      " [6 4 7 4]\n",
      " [7 1 1 8]]\n"
     ]
    },
    {
     "data": {
      "text/plain": [
       "np.True_"
      ]
     },
     "execution_count": 33,
     "metadata": {},
     "output_type": "execute_result"
    }
   ],
   "source": [
    "import numpy as np\n",
    "np.random.seed(17)\n",
    "x = np.random.randint(9,size=(3,4))\n",
    "print(x)\n",
    "#x < 4\n",
    "np.count_nonzero(x < 4)\n",
    "np.sum(x < 4)\n",
    "np.sum(x < 4, axis=1)\n",
    "np.sum(x < 6, axis=0)\n",
    "np.any(x > 8)\n",
    "np.any(x < 0)\n",
    "np.all(x < 10)"
   ]
  },
  {
   "cell_type": "markdown",
   "metadata": {},
   "source": [
    "5\\. Now using what you know from above, find the following from our Seattle data:\n",
    "- The number of days without rain\n",
    "- The number of days with rain\n",
    "- Days with  more than 0.5 inches of rain\n",
    "- Rainy days with less than 0.2 inches of rain\n",
    "- The number of days between .5 and 1 inches of rain\n",
    "[//]: # (Hello)\n",
    "Once again, everything can be done with a single Ufunction call"
   ]
  },
  {
   "cell_type": "code",
   "execution_count": 38,
   "metadata": {},
   "outputs": [
    {
     "name": "stdout",
     "output_type": "stream",
     "text": [
      "Days without rain: 215\n",
      "Days with rain: 150\n",
      "Days with >0.5 inches of rain: 150\n",
      "Rainy days with <0.2 inches: 215\n",
      "Days with rainfall between 0.5-1 inches: 0\n"
     ]
    }
   ],
   "source": [
    "days_without_rain = np.sum(rainfall == 0)\n",
    "days_with_rain = np.sum(rainfall > 0)\n",
    "days_heavy_rain = np.sum(rainfall > 0.5)\n",
    "days_light_rain = np.sum(rainfall < 0.2)\n",
    "days_medium_rain = np.sum((rainfall > 0.5) & (rainfall < 1))\n",
    "\n",
    "print(f\"Days without rain: {days_without_rain}\")\n",
    "print(f\"Days with rain: {days_with_rain}\")\n",
    "print(f\"Days with >0.5 inches of rain: {days_heavy_rain}\")\n",
    "print(f\"Rainy days with <0.2 inches: {days_light_rain}\")\n",
    "print(f\"Days with rainfall between 0.5-1 inches: {days_medium_rain}\")\n"
   ]
  },
  {
   "cell_type": "markdown",
   "metadata": {},
   "source": [
    "In the preceding sections we looked at aggregates computed directly on Boolean arrays. A more powerful pattern is to use Boolean arrays as masks, to select particular subsets of the data themselves. Returning to our work from question 4, this time with masks, solve the following problem."
   ]
  },
  {
   "cell_type": "markdown",
   "metadata": {},
   "source": [
    "6\\. Using the same initial array from question 4:\n",
    "- Return a new array with only values less than 5 \n",
    "[//]: # (Hello)\n",
    "Once again, everything can be done with a Ufunction call, that looks sorta like a list comprehension"
   ]
  },
  {
   "cell_type": "code",
   "execution_count": 41,
   "metadata": {},
   "outputs": [
    {
     "name": "stdout",
     "output_type": "stream",
     "text": [
      "[1 0 4 4 1 1]\n"
     ]
    }
   ],
   "source": [
    "newArray = x[x<5]\n",
    "print(newArray)"
   ]
  },
  {
   "cell_type": "markdown",
   "metadata": {},
   "source": [
    "Finally, lets apply everything we have learned so far to our rainfall example:"
   ]
  },
  {
   "cell_type": "markdown",
   "metadata": {},
   "source": [
    "7\\. Using masks and UFunctions, find the following:\n",
    "- Median precipitation on rainy days in 2014\n",
    "- 25th Percentile precipitation on summer days in 2014\n",
    "- Maximum precipitation on summer days in 2014\n",
    "- Standard Deviation precipitation on non-summer rainy days"
   ]
  },
  {
   "cell_type": "code",
   "execution_count": 49,
   "metadata": {},
   "outputs": [
    {
     "name": "stdout",
     "output_type": "stream",
     "text": [
      "0.0\n",
      "0.0\n",
      "216\n",
      "85.448083336809\n"
     ]
    }
   ],
   "source": [
    "print(np.median(rainfall))\n",
    "\n",
    "summerPrecipitation = rainfall[172:265] #summer days between day number 172 and 265 (June 21 to Sept 22)\n",
    "print(np.quantile(summerPrecipitation, 0.25))\n",
    "print(np.max(summerPrecipitation))\n",
    "\n",
    "nonSummerRainyDays = np.concatenate([rainfall[:171], rainfall[264:]])\n",
    "nonSummerRainyDays = nonSummerRainyDays[nonSummerRainyDays>0]\n",
    "print(np.std(nonSummerRainyDays))"
   ]
  },
  {
   "cell_type": "markdown",
   "metadata": {},
   "source": [
    "___"
   ]
  },
  {
   "cell_type": "markdown",
   "metadata": {},
   "source": [
    "<font size=5>Section 4: Sorting</font>"
   ]
  },
  {
   "cell_type": "markdown",
   "metadata": {},
   "source": [
    "I wont go into the performance considerations of sorting here, but rest assured that sorting using the built in NumPy (or even python) methods is going to be much quicker than anything we can realistically throw together, and when working with massive datasets, this becomes a huge deal."
   ]
  },
  {
   "cell_type": "markdown",
   "metadata": {},
   "source": [
    "8\\. Generate a 1d array with 20 random entries between 0 and 99\n",
    "- Sort the array via a view\n",
    "- Sort the array in place\n"
   ]
  },
  {
   "cell_type": "code",
   "execution_count": 51,
   "metadata": {},
   "outputs": [
    {
     "name": "stdout",
     "output_type": "stream",
     "text": [
      "[13 56 27 83 50 49 60  8 51 27 87 63 26 91 56 57 79 74  2 49]\n"
     ]
    }
   ],
   "source": [
    "arr = np.random.randint(0,100,size=20)\n",
    "print(arr)\n",
    "sortedView = np.sort(arr)\n",
    "arr.sort()"
   ]
  },
  {
   "cell_type": "markdown",
   "metadata": {},
   "source": [
    "8\\. Generate a 2d array with 54 random entries (6x9) between 0 and 9\n",
    "- Sort the array\n",
    "- Sort the array along each column\n",
    "- Sort the array along each row"
   ]
  },
  {
   "cell_type": "code",
   "execution_count": 60,
   "metadata": {},
   "outputs": [
    {
     "name": "stdout",
     "output_type": "stream",
     "text": [
      "[[3 1 5 1 1 3 3 4 4]\n",
      " [3 3 4 1 9 3 4 7 6]\n",
      " [3 1 6 5 2 6 0 8 5]\n",
      " [4 8 0 8 6 6 3 2 1]\n",
      " [0 7 3 6 3 1 4 4 1]\n",
      " [3 0 7 7 7 4 0 0 4]]\n",
      "[[0 0 0 0 0 0 1 1 1]\n",
      " [1 1 1 1 1 2 2 3 3]\n",
      " [3 3 3 3 3 3 3 3 3]\n",
      " [4 4 4 4 4 4 4 4 4]\n",
      " [5 5 5 6 6 6 6 6 6]\n",
      " [7 7 7 7 7 8 8 8 9]]\n",
      "[[0 0 0 1 1 1 0 0 1]\n",
      " [3 1 3 1 2 3 0 2 1]\n",
      " [3 1 4 5 3 3 3 4 4]\n",
      " [3 3 5 6 6 4 3 4 4]\n",
      " [3 7 6 7 7 6 4 7 5]\n",
      " [4 8 7 8 9 6 4 8 6]]\n",
      "[[1 1 1 3 3 3 4 4 5]\n",
      " [1 3 3 3 4 4 6 7 9]\n",
      " [0 1 2 3 5 5 6 6 8]\n",
      " [0 1 2 3 4 6 6 8 8]\n",
      " [0 1 1 3 3 4 4 6 7]\n",
      " [0 0 0 3 4 4 7 7 7]]\n"
     ]
    }
   ],
   "source": [
    "arr = np.random.randint(0,10,size=(6,9))\n",
    "print(arr)\n",
    "sortedArr = np.sort(arr.flatten()).reshape(6,9)\n",
    "print(sortedArr)\n",
    "\n",
    "colSort = np.sort(arr, axis=0)\n",
    "print(colSort)\n",
    "\n",
    "rowSort = np.sort(arr, axis=1)\n",
    "print(rowSort)"
   ]
  },
  {
   "cell_type": "markdown",
   "metadata": {},
   "source": [
    "___"
   ]
  },
  {
   "cell_type": "markdown",
   "metadata": {},
   "source": [
    "<font size=5>Continued Training for the Love Data Week Games</font>\n",
    "\n",
    "Love Data Week is coming up soon - It's Feb 10-14!\n",
    "\n",
    "(There will be seminars and data-inspired activities in the real world, but we'll imagine a fictitious charity games day to practice numpy skills.)\n",
    "\n",
    "Team Toasted Ravioli and Team Bread-sliced Bagels now begin training for the pi eating contest.\n",
    "\n",
    "First our teams must find some pi.\n",
    "\n",
    "<font size=3>Hide the pi</font>\n",
    "\n",
    "9a\\. Your first job is to create a grid in which to hide the pi.  Do this by creating a numpy array with six rows and eight columns, filled with random integers between 0 and 9. To prepare the grid to receive pi, though, convert it to float format after creating it."
   ]
  },
  {
   "cell_type": "code",
   "execution_count": 65,
   "metadata": {},
   "outputs": [
    {
     "name": "stdout",
     "output_type": "stream",
     "text": [
      "[[0. 6. 3. 9. 2. 5. 7. 9.]\n",
      " [0. 0. 4. 5. 5. 2. 4. 8.]\n",
      " [7. 3. 4. 5. 5. 1. 5. 2.]\n",
      " [4. 9. 2. 3. 6. 3. 1. 2.]\n",
      " [0. 6. 2. 0. 6. 4. 2. 7.]\n",
      " [0. 0. 1. 3. 9. 9. 4. 0.]]\n"
     ]
    }
   ],
   "source": [
    "hidePi = np.random.randint(0,10,size=(6,8)).astype(float)\n",
    "print(hidePi)\n"
   ]
  },
  {
   "cell_type": "markdown",
   "metadata": {},
   "source": [
    "9b\\. Now use numpy commands to create a boolean mask of the same size as your pi grid, randomly filled with boolean True and False."
   ]
  },
  {
   "cell_type": "code",
   "execution_count": 66,
   "metadata": {},
   "outputs": [
    {
     "name": "stdout",
     "output_type": "stream",
     "text": [
      "[[False  True  True False False False False False]\n",
      " [False  True  True  True  True False  True False]\n",
      " [False  True False  True False  True False False]\n",
      " [False  True  True False False False False False]\n",
      " [False  True  True False False False  True  True]\n",
      " [ True  True  True  True  True False  True  True]]\n"
     ]
    }
   ],
   "source": [
    "boolMask = np.random.choice([True, False], size=(6, 8))\n",
    "print(boolMask)"
   ]
  },
  {
   "cell_type": "markdown",
   "metadata": {},
   "source": [
    "9c\\. Finally, use your boolean mask to hide pi (np.pi) in the locations of your grid corresponding to True in your mask."
   ]
  },
  {
   "cell_type": "code",
   "execution_count": 67,
   "metadata": {},
   "outputs": [
    {
     "name": "stdout",
     "output_type": "stream",
     "text": [
      "[[0.         3.14159265 3.14159265 9.         2.         5.\n",
      "  7.         9.        ]\n",
      " [0.         3.14159265 3.14159265 3.14159265 3.14159265 2.\n",
      "  3.14159265 8.        ]\n",
      " [7.         3.14159265 4.         3.14159265 5.         3.14159265\n",
      "  5.         2.        ]\n",
      " [4.         3.14159265 3.14159265 3.         6.         3.\n",
      "  1.         2.        ]\n",
      " [0.         3.14159265 3.14159265 0.         6.         4.\n",
      "  3.14159265 3.14159265]\n",
      " [3.14159265 3.14159265 3.14159265 3.14159265 3.14159265 9.\n",
      "  3.14159265 3.14159265]]\n"
     ]
    }
   ],
   "source": [
    "hidePi[boolMask] = np.pi\n",
    "print(hidePi)"
   ]
  },
  {
   "cell_type": "markdown",
   "metadata": {},
   "source": [
    "10a\\. Now that the pi are hidden, use numpy commands to slice the grid into two equal parts (vertically or horizontally) and give one part to each team."
   ]
  },
  {
   "cell_type": "code",
   "execution_count": 70,
   "metadata": {},
   "outputs": [
    {
     "name": "stdout",
     "output_type": "stream",
     "text": [
      "[[0.         3.14159265 3.14159265 9.         2.         5.\n",
      "  7.         9.        ]\n",
      " [0.         3.14159265 3.14159265 3.14159265 3.14159265 2.\n",
      "  3.14159265 8.        ]\n",
      " [7.         3.14159265 4.         3.14159265 5.         3.14159265\n",
      "  5.         2.        ]]\n",
      "[[4.         3.14159265 3.14159265 3.         6.         3.\n",
      "  1.         2.        ]\n",
      " [0.         3.14159265 3.14159265 0.         6.         4.\n",
      "  3.14159265 3.14159265]\n",
      " [3.14159265 3.14159265 3.14159265 3.14159265 3.14159265 9.\n",
      "  3.14159265 3.14159265]]\n"
     ]
    }
   ],
   "source": [
    "ravioli = hidePi[:3, :]\n",
    "bagel = hidePi[3:, :] \n",
    "print(ravioli)\n",
    "print(bagel)"
   ]
  },
  {
   "cell_type": "markdown",
   "metadata": {},
   "source": [
    "<font size=3>Eat the pi</font>\n",
    "\n",
    "10b\\. For each team, write code that reports how many pi are in their grid. Then, each team must eat their pi by replacing each instance of pi with the mean value of their grids using np.where( ). Show the new grids for each team."
   ]
  },
  {
   "cell_type": "code",
   "execution_count": 75,
   "metadata": {},
   "outputs": [
    {
     "name": "stdout",
     "output_type": "stream",
     "text": [
      "0\n",
      "0\n",
      "[[0.         4.01733027 4.01733027 9.         2.         5.\n",
      "  7.         9.        ]\n",
      " [0.         4.01733027 4.01733027 4.01733027 4.01733027 2.\n",
      "  4.01733027 8.        ]\n",
      " [7.         4.01733027 4.         4.01733027 5.         4.01733027\n",
      "  5.         2.        ]]\n",
      "[[4.         3.28502935 3.28502935 3.         6.         3.\n",
      "  1.         2.        ]\n",
      " [0.         3.28502935 3.28502935 0.         6.         4.\n",
      "  3.28502935 3.28502935]\n",
      " [3.28502935 3.28502935 3.28502935 3.28502935 3.28502935 9.\n",
      "  3.28502935 3.28502935]]\n"
     ]
    }
   ],
   "source": [
    "print(np.sum(ravioli==np.pi))\n",
    "print(np.sum(bagel==np.pi))\n",
    "mean1 = np.mean(ravioli)\n",
    "mean2 = np.mean(bagel)\n",
    "ravioli = np.where(ravioli == np.pi, mean1, ravioli)\n",
    "bagel = np.where(bagel == np.pi, mean2, bagel)\n",
    "\n",
    "print(ravioli)\n",
    "print(bagel)"
   ]
  },
  {
   "cell_type": "markdown",
   "metadata": {},
   "source": [
    "Finally, the teams calculate their score by summing all of the elements of their grid.  Which team had the largest sum?"
   ]
  },
  {
   "cell_type": "code",
   "execution_count": 77,
   "metadata": {},
   "outputs": [
    {
     "name": "stdout",
     "output_type": "stream",
     "text": [
      "105.17330272329079\n",
      "80.70538160236146\n",
      "Ravioli had the largest sum\n"
     ]
    }
   ],
   "source": [
    "sum1 = np.sum(ravioli)\n",
    "sum2 = np.sum(bagel)\n",
    "print(sum1)\n",
    "print(sum2)\n",
    "\n",
    "if (sum1 > sum2):\n",
    "    print(\"Ravioli had the largest sum\")\n",
    "else:\n",
    "    print(\"Bagel had the largest sum\")\n",
    "\n",
    "\n"
   ]
  },
  {
   "cell_type": "markdown",
   "metadata": {},
   "source": [
    "10\\. If you have any additional questions, comments, or concerns, please state them below and we will do our best to address them"
   ]
  },
  {
   "cell_type": "code",
   "execution_count": null,
   "metadata": {},
   "outputs": [],
   "source": []
  }
 ],
 "metadata": {
  "kernelspec": {
   "display_name": "Python (bme231)",
   "language": "python",
   "name": "bme231"
  },
  "language_info": {
   "codemirror_mode": {
    "name": "ipython",
    "version": 3
   },
   "file_extension": ".py",
   "mimetype": "text/x-python",
   "name": "python",
   "nbconvert_exporter": "python",
   "pygments_lexer": "ipython3",
   "version": "3.13.2"
  },
  "toc": {
   "base_numbering": 1,
   "nav_menu": {},
   "number_sections": true,
   "sideBar": true,
   "skip_h1_title": false,
   "title_cell": "Table of Contents",
   "title_sidebar": "Contents",
   "toc_cell": true,
   "toc_position": {},
   "toc_section_display": true,
   "toc_window_display": false
  },
  "varInspector": {
   "cols": {
    "lenName": 16,
    "lenType": 16,
    "lenVar": 40
   },
   "kernels_config": {
    "python": {
     "delete_cmd_postfix": "",
     "delete_cmd_prefix": "del ",
     "library": "var_list.py",
     "varRefreshCmd": "print(var_dic_list())"
    },
    "r": {
     "delete_cmd_postfix": ") ",
     "delete_cmd_prefix": "rm(",
     "library": "var_list.r",
     "varRefreshCmd": "cat(var_dic_list()) "
    }
   },
   "types_to_exclude": [
    "module",
    "function",
    "builtin_function_or_method",
    "instance",
    "_Feature"
   ],
   "window_display": false
  }
 },
 "nbformat": 4,
 "nbformat_minor": 4
}
