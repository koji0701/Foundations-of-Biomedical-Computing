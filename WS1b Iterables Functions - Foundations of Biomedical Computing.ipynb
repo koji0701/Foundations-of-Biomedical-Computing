{
 "cells": [
  {
   "cell_type": "markdown",
   "metadata": {
    "toc": true
   },
   "source": [
    "<h1>Table of Contents<span class=\"tocSkip\"></span></h1>\n",
    "<div class=\"toc\"><ul class=\"toc-item\"></ul></div>"
   ]
  },
  {
   "cell_type": "markdown",
   "metadata": {},
   "source": [
    "<font size=6>Foundations of Biomedical Computing</font>"
   ]
  },
  {
   "cell_type": "markdown",
   "metadata": {},
   "source": [
    "<font size=5>Worksheet #1b - Statements, Loops, and Functions</font>"
   ]
  },
  {
   "cell_type": "markdown",
   "metadata": {},
   "source": [
    "The focus of this assignment will be on statements, loops, and functions in python. Additionally, error handling and timing (complexity) will be covered."
   ]
  },
  {
   "cell_type": "markdown",
   "metadata": {},
   "source": [
    "___"
   ]
  },
  {
   "cell_type": "markdown",
   "metadata": {},
   "source": [
    "<font size=5>Section 1: Conditional Statements & Identity/Membership Statements</font>"
   ]
  },
  {
   "cell_type": "markdown",
   "metadata": {},
   "source": [
    "There are two types of statements in python: conditional statements and identity/membership statements (also known as identity/membership operators). \n",
    "- Conditional statements: `if`, `for`, `while`\n",
    "<br>\n",
    "\n",
    "- Identity/Membership statements: `in` `not in`, `is`, `is not`"
   ]
  },
  {
   "cell_type": "markdown",
   "metadata": {},
   "source": [
    "Identity/membership statements are used  to test if a sequence is present in an object (`in`, `not in`) or to compare objects (`is`, `is not`).\n",
    "<br>\n",
    "Of note is that the comparison does not necessarily check if the two objects are are equal, but rather it checks if they are actually the same instance of the object, with the same memory location.\n",
    "<br>\n",
    "<br>\n",
    "These operators often work in conjunction with the conditional statements above to help make code more 'pythonic' and are a key differentiator between python and other programming languages like Java or C. "
   ]
  },
  {
   "cell_type": "markdown",
   "metadata": {},
   "source": [
    "1\\. Start by writing some code to create a string.  Then check if the string is all lowercase, all uppercase, or a mix of the two using an *if*- *elif*-*else* construction, providing output using print( ) to indicate which is correct. Try your code on a variety of strings.\n",
    "<br>\n",
    "<br>\n"
   ]
  },
  {
   "cell_type": "code",
   "execution_count": 3,
   "metadata": {},
   "outputs": [
    {
     "name": "stdout",
     "output_type": "stream",
     "text": [
      "the string is all uppercase\n"
     ]
    }
   ],
   "source": [
    "firstString = \"FIRST\"\n",
    "\n",
    "if firstString.islower():\n",
    "    print(\"the string is all lowercase\")\n",
    "elif firstString.isupper():\n",
    "    print(\"the string is all uppercase\")\n",
    "else:\n",
    "    print(\"the string is a mix of upper and lower case\")"
   ]
  },
  {
   "cell_type": "markdown",
   "metadata": {},
   "source": [
    "2\\. Create a dict with five entries. Now make a (`for`) loop that iterates through the dict and prints just the keys for each of the items in the dict. \n",
    "<br>\n",
    "<br>\n",
    "Feel free to seek documentation and resources online, coding is rarely done in a vacuum. "
   ]
  },
  {
   "cell_type": "code",
   "execution_count": 4,
   "metadata": {},
   "outputs": [
    {
     "name": "stdout",
     "output_type": "stream",
     "text": [
      "hi\n",
      "hello\n",
      "z\n",
      "decent\n",
      "p\n"
     ]
    }
   ],
   "source": [
    "dictionary = {\n",
    "    \"hi\": 2,\n",
    "    \"hello\": 3,\n",
    "    \"z\": 4,\n",
    "    \"decent\": 1,\n",
    "    \"p\": 0,\n",
    "}\n",
    "\n",
    "for key in dictionary.keys():\n",
    "    print(key)"
   ]
  },
  {
   "cell_type": "markdown",
   "metadata": {},
   "source": [
    "Now write a standard for loop that returns the square root of the first five integers. Then write a list comprehension statement that does the same thing."
   ]
  },
  {
   "cell_type": "code",
   "execution_count": 8,
   "metadata": {},
   "outputs": [
    {
     "name": "stdout",
     "output_type": "stream",
     "text": [
      "1.4142135623730951\n",
      "1.7320508075688772\n",
      "2.0\n",
      "1.0\n",
      "0.0\n"
     ]
    }
   ],
   "source": [
    "for value in dictionary.values():\n",
    "    print(value ** 0.5)"
   ]
  },
  {
   "cell_type": "code",
   "execution_count": 9,
   "metadata": {},
   "outputs": [
    {
     "name": "stdout",
     "output_type": "stream",
     "text": [
      "[1.4142135623730951, 1.7320508075688772, 2.0, 1.0, 0.0]\n"
     ]
    }
   ],
   "source": [
    "sqrtOfFiveIntegers = [value ** 0.5 for value in dictionary.values()]\n",
    "print(sqrtOfFiveIntegers)"
   ]
  },
  {
   "cell_type": "markdown",
   "metadata": {},
   "source": [
    "3\\. With a `while` loop print out the first n terms of the Fibonacci sequence. (Each term of the Fibonacci sequence is the sum of the previous two terms, starting with 1, 1.  Define the first two terms directly, then use a counter variable and a while loop to iterate up to n.)\n",
    "<br>\n",
    "<br>\n",
    "Remember that with a while loop the step size of the loop can be variable."
   ]
  },
  {
   "cell_type": "code",
   "execution_count": 11,
   "metadata": {},
   "outputs": [
    {
     "name": "stdout",
     "output_type": "stream",
     "text": [
      "1\n",
      "1\n",
      "2\n",
      "3\n",
      "5\n",
      "8\n",
      "13\n",
      "21\n",
      "34\n",
      "55\n"
     ]
    }
   ],
   "source": [
    "n = 10\n",
    "first = 1\n",
    "second = 1\n",
    "counter = 2\n",
    "print(first)\n",
    "print(second)\n",
    "while counter < n: \n",
    "    temp = first + second\n",
    "    first = second\n",
    "    second = temp\n",
    "    print(second)\n",
    "    counter += 1"
   ]
  },
  {
   "cell_type": "markdown",
   "metadata": {},
   "source": [
    "___"
   ]
  },
  {
   "cell_type": "markdown",
   "metadata": {},
   "source": [
    "<font size=5>Section 2: Functions</font>"
   ]
  },
  {
   "cell_type": "markdown",
   "metadata": {},
   "source": [
    "Functions are an integral part of any program, and allow for the easy reuse of frequently called code fragments. "
   ]
  },
  {
   "cell_type": "markdown",
   "metadata": {},
   "source": [
    "Functions can either be implicit (`lambda`) or explicit (`def`) in python. \n",
    "<br>\n",
    "<br>\n",
    "Lambda functions are also known as single expression functions, as a lambda function simply evaluates its expression with the variables given and then automatically returns its result.\n",
    "<br>\n",
    "<br>\n",
    "Explicit python functions defined with `def` can be much more complex than lambda functions, while also being more flexible. These functions can also be called by code outside of the current file, which allows for the creation of libraries and shared functions.\n",
    "<br>\n",
    "\n",
    "As a note, it is good practice to include a `pass` statement when having an empty function.\n",
    "<br>\n",
    "e.g.<pre><code>def myfunc():\n",
    "  pass\n",
    "</code></pre>"
   ]
  },
  {
   "cell_type": "markdown",
   "metadata": {},
   "source": [
    "4\\. Create a function using `def` that takes in a radius a, a fluid viscosity $\\mu$, a pressure drop $\\Delta$*P* and a length *l*, and solves for the volumetric flow rate *Q*.  This is Poiseuille's Law, and it can be used to calculate the velocity of blood through a vessel under certain conditions.\n",
    "<br>\n",
    "<br>\n",
    "The equation for Poiseuille's Law is:\n",
    "\\begin{align}\n",
    "\\mathrm{Q\\ =}\\ \\frac{\\mathrm{\\pi}\\mathrm{a}^\\mathrm{4}\\Delta P}{\\mathrm{8\\mu l}}\n",
    "\\end{align}\n",
    "Where:\n",
    "- a = tube radius\n",
    "- $\\Delta P$ = pressure drop\n",
    "- $\\mu$ = fluid viscosity\n",
    "- l = length of tube\n",
    "\n",
    "Note: to use pi, you must first `import math` and then use math.pi.\n",
    "\n",
    "Use your function to find the volumetric flow rate through the aorta in m<sup>3</sup>/sec, if the radius of the aorta is 0.0125 m, the pressure drop is 3.33 Pa, the viscosity of blood is 4 x 10<sup>-3</sup> Pa-seconds, and the length of the aorta is 0.1 m. "
   ]
  },
  {
   "cell_type": "code",
   "execution_count": 16,
   "metadata": {},
   "outputs": [
    {
     "name": "stdout",
     "output_type": "stream",
     "text": [
      "7.981493786967479e-05 m^3 / s\n"
     ]
    }
   ],
   "source": [
    "import math\n",
    "\n",
    "def poiseuille(a, changeP, u, l):\n",
    "    return ((math.pi * (a ** 4) * changeP) / (8 * u * l))\n",
    "\n",
    "print(f\"{poiseuille(0.0125, 3.33, 4*(10**-3), 0.1)} m^3 / s\")\n"
   ]
  },
  {
   "cell_type": "markdown",
   "metadata": {},
   "source": [
    "5\\. Now, if you're feeling brave, create a lambda function using that does the same thing as question 4. "
   ]
  },
  {
   "cell_type": "code",
   "execution_count": 19,
   "metadata": {},
   "outputs": [
    {
     "name": "stdout",
     "output_type": "stream",
     "text": [
      "7.981493786967479e-05 m^3 / s\n"
     ]
    }
   ],
   "source": [
    "poiseuilleLambda = lambda a, changeP, u, l  :  ((math.pi * (a ** 4) * changeP) / (8 * u * l))\n",
    "print(f\"{poiseuilleLambda(0.0125, 3.33, 4*(10**-3), 0.1)} m^3 / s\")\n"
   ]
  },
  {
   "cell_type": "markdown",
   "metadata": {},
   "source": [
    "___"
   ]
  },
  {
   "cell_type": "markdown",
   "metadata": {},
   "source": [
    "<font size=5>Section 3: Errors and Exceptions</font>"
   ]
  },
  {
   "cell_type": "markdown",
   "metadata": {},
   "source": [
    "Whenever accepting input from a user or another program, it is always advised to have error handling in your function so as to not pass on malformed or harmful data to other parts of your program.\n",
    "<br>\n",
    "This is done through the use of the `try` statement and the `except` operator. "
   ]
  },
  {
   "cell_type": "markdown",
   "metadata": {},
   "source": [
    "6\\. Start by writing some code that continually requests for the user to input an integer. If the user inputs an integer print 'success' and the value of the integer. If an integer is not entered, let the user know and re-prompt the user for a value."
   ]
  },
  {
   "cell_type": "code",
   "execution_count": 25,
   "metadata": {},
   "outputs": [
    {
     "name": "stdin",
     "output_type": "stream",
     "text": [
      "Input an integer:  hi\n"
     ]
    },
    {
     "name": "stdout",
     "output_type": "stream",
     "text": [
      "Please input an integer\n"
     ]
    },
    {
     "name": "stdin",
     "output_type": "stream",
     "text": [
      "Input an integer:  hi\n"
     ]
    },
    {
     "name": "stdout",
     "output_type": "stream",
     "text": [
      "Please input an integer\n"
     ]
    },
    {
     "name": "stdin",
     "output_type": "stream",
     "text": [
      "Input an integer:  okay\n"
     ]
    },
    {
     "name": "stdout",
     "output_type": "stream",
     "text": [
      "Please input an integer\n"
     ]
    },
    {
     "name": "stdin",
     "output_type": "stream",
     "text": [
      "Input an integer:  3.2\n"
     ]
    },
    {
     "name": "stdout",
     "output_type": "stream",
     "text": [
      "Please input an integer\n"
     ]
    },
    {
     "name": "stdin",
     "output_type": "stream",
     "text": [
      "Input an integer:  3.0\n"
     ]
    },
    {
     "name": "stdout",
     "output_type": "stream",
     "text": [
      "Please input an integer\n"
     ]
    },
    {
     "name": "stdin",
     "output_type": "stream",
     "text": [
      "Input an integer:  3\n"
     ]
    }
   ],
   "source": [
    "while True:\n",
    "    try:\n",
    "        integer = int(input(\"Input an integer: \"))\n",
    "        break\n",
    "    except:\n",
    "        print(\"Please input an integer\")\n",
    "\n"
   ]
  },
  {
   "cell_type": "markdown",
   "metadata": {},
   "source": [
    "___"
   ]
  },
  {
   "cell_type": "markdown",
   "metadata": {},
   "source": [
    "<font size=5>Section 4: Timing and Complexity</font>"
   ]
  },
  {
   "cell_type": "markdown",
   "metadata": {},
   "source": [
    "When working with small programs or small datasets, the efficiency of code is not a significant concern. However, as program size increases or data set size increases, it suddenly becomes very important how optimized and efficiently code runs.\n",
    "<br>\n",
    "<br>\n",
    "A loose proxy for measuring code complexity is by timing a program to see how long it takes to execute. This can be done with the time library in python.\n",
    "<br>\n",
    "e.g.\n",
    "<pre><code>import time\n",
    "\n",
    "start = time.time()\n",
    "print(\"hello\")\n",
    "end = time.time()\n",
    "print(end - start)\n",
    "</code></pre>"
   ]
  },
  {
   "cell_type": "markdown",
   "metadata": {},
   "source": [
    "7\\. Try using the code from above to measure the time it takes to execute the `lambda` function and the `def` functions you wrote for questions 4 and 5.\n",
    "<br>\n",
    "Which one ran faster? Is that what you expected?\n",
    "<br>\n",
    "<br>\n",
    "In the very likely event that you get a result of 0.0 for both functions, try measuing the execution time using the `%timeit` function from question 8."
   ]
  },
  {
   "cell_type": "code",
   "execution_count": 43,
   "metadata": {},
   "outputs": [
    {
     "name": "stdout",
     "output_type": "stream",
     "text": [
      "time for the def function: 0.0001361370086669922\n",
      "time for the lambda function: 9.584426879882812e-05\n",
      "the lambda function was faster than the def function\n"
     ]
    }
   ],
   "source": [
    "import time \n",
    "\n",
    "startDef = time.time()\n",
    "poiseuille(0.0125, 3.33, 4*(10**-3), 0.1)\n",
    "endDef = time.time()\n",
    "print(f\"time for the def function: {endDef - startDef}\")\n",
    "\n",
    "startLam = time.time()\n",
    "poiseuilleLambda(0.0125, 3.33, 4*(10**-3), 0.1)\n",
    "endLam = time.time()\n",
    "print(f\"time for the lambda function: {endLam - startLam}\")\n",
    "\n",
    "if (endDef - startDef) > (endLam - startLam):\n",
    "    print(\"the lambda function was faster than the def function\")\n",
    "elif (endDef - startDef) < (endLam - startLam):\n",
    "    print(\"the def function was faster than the lambda function\")\n",
    "else: #have this just in case, altho super super rare\n",
    "    print(\"the def and lambda functions ran the exact same speed\")\n",
    "\n",
    "# I ran this program multiple times, and the lambda and def functions alternated in which is the fastest (run 1 lambda was faster, run 2 def was faster, etc.)\n",
    "# However, after running a lot, I conclude that the lambda function is faster most of the time, although the difference is marginal"
   ]
  },
  {
   "cell_type": "markdown",
   "metadata": {},
   "source": [
    "8\\. Read through the following two snippits of code. Each of these calculates the factorial of a number; one is non-recursive (fact) and one is recursive (fact2).  (A recursive function calls *itself* as part of its execution.) Which one do you think will run faster?\n",
    "<br>\n",
    "<br>\n",
    "Now try timing the same two snippits of code and see which one takes less time. How big of a difference is there?\n",
    "<br>\n",
    "<br>\n",
    "- First snippit\n",
    "<pre><code>def fact(n):\n",
    "    product = 1\n",
    "    for i in range(n):\n",
    "        product = product * (i+1)\n",
    "    return product\n",
    "print (fact(5))\n",
    "</code></pre>\n",
    "<br>\n",
    "- Second snippit\n",
    "<pre><code>def fact2(n):\n",
    "    if n == 0:\n",
    "        return 1\n",
    "    else:\n",
    "        return n * fact2(n-1)\n",
    "print (fact2(5))\n",
    "</code></pre>"
   ]
  },
  {
   "cell_type": "markdown",
   "metadata": {},
   "source": [
    "It maybe the case that the timing method above will not work to measure the execution time of the code snippits as they will finish so quickly. So instead use the timeit function to measure execution time.\n",
    "<br>\n",
    "In jupyter this can be called like this: ``%timeit myfunc(n)``"
   ]
  },
  {
   "cell_type": "code",
   "execution_count": null,
   "metadata": {},
   "outputs": [],
   "source": []
  },
  {
   "cell_type": "markdown",
   "metadata": {},
   "source": [
    "___"
   ]
  },
  {
   "cell_type": "markdown",
   "metadata": {},
   "source": [
    "9\\. If you have any additional questions, comments, or concerns, please state them below and we will do our best to address them"
   ]
  },
  {
   "cell_type": "markdown",
   "metadata": {},
   "source": []
  }
 ],
 "metadata": {
  "kernelspec": {
   "display_name": "Python 3 (ipykernel)",
   "language": "python",
   "name": "python3"
  },
  "language_info": {
   "codemirror_mode": {
    "name": "ipython",
    "version": 3
   },
   "file_extension": ".py",
   "mimetype": "text/x-python",
   "name": "python",
   "nbconvert_exporter": "python",
   "pygments_lexer": "ipython3",
   "version": "3.13.0"
  },
  "toc": {
   "base_numbering": 1,
   "nav_menu": {},
   "number_sections": true,
   "sideBar": true,
   "skip_h1_title": false,
   "title_cell": "Table of Contents",
   "title_sidebar": "Contents",
   "toc_cell": true,
   "toc_position": {},
   "toc_section_display": true,
   "toc_window_display": false
  },
  "varInspector": {
   "cols": {
    "lenName": 16,
    "lenType": 16,
    "lenVar": 40
   },
   "kernels_config": {
    "python": {
     "delete_cmd_postfix": "",
     "delete_cmd_prefix": "del ",
     "library": "var_list.py",
     "varRefreshCmd": "print(var_dic_list())"
    },
    "r": {
     "delete_cmd_postfix": ") ",
     "delete_cmd_prefix": "rm(",
     "library": "var_list.r",
     "varRefreshCmd": "cat(var_dic_list()) "
    }
   },
   "types_to_exclude": [
    "module",
    "function",
    "builtin_function_or_method",
    "instance",
    "_Feature"
   ],
   "window_display": false
  }
 },
 "nbformat": 4,
 "nbformat_minor": 4
}
